{
 "cells": [
  {
   "cell_type": "code",
   "source": [
    "import pandas as pd"
   ],
   "execution_count": 1,
   "outputs": [],
   "metadata": {
    "datalore": {
     "node_id": "EuNOl1j0inhhECouyhszrI",
     "type": "CODE",
     "hide_input_from_viewers": true,
     "hide_output_from_viewers": true
    }
   }
  },
  {
   "cell_type": "code",
   "source": [
    "tags = pd.read_csv('tags.csv')\n",
    "tags = tags.merge(tags['image'].str.split('_', expand=True), left_index=True, right_index=True)\n",
    "tags.columns = ['image', 'number', 'tag_list', 'ai', 'category', 'prompt']\n",
    "\n",
    "tags.info()"
   ],
   "execution_count": 3,
   "outputs": [
    {
     "name": "stdout",
     "text": [
      "<class 'pandas.core.frame.DataFrame'>\n",
      "RangeIndex: 144 entries, 0 to 143\n",
      "Data columns (total 6 columns):\n",
      " #   Column    Non-Null Count  Dtype \n",
      "---  ------    --------------  ----- \n",
      " 0   image     144 non-null    object\n",
      " 1   number    144 non-null    int64 \n",
      " 2   tag_list  144 non-null    object\n",
      " 3   ai        144 non-null    object\n",
      " 4   category  144 non-null    object\n",
      " 5   prompt    144 non-null    object\n",
      "dtypes: int64(1), object(5)\n",
      "memory usage: 6.9+ KB\n"
     ],
     "output_type": "stream"
    }
   ],
   "metadata": {
    "datalore": {
     "node_id": "PwNcX7tDTD8iFw29q1rMgh",
     "type": "CODE",
     "hide_input_from_viewers": true,
     "hide_output_from_viewers": true
    }
   }
  },
  {
   "cell_type": "code",
   "source": [],
   "execution_count": null,
   "outputs": [],
   "metadata": {
    "datalore": {
     "node_id": "ySza8dtT3PNChln7fcOvp7",
     "type": "CODE",
     "hide_input_from_viewers": true,
     "hide_output_from_viewers": true
    }
   }
  }
 ],
 "metadata": {
  "kernelspec": {
   "display_name": "Python",
   "language": "python",
   "name": "python"
  },
  "datalore": {
   "version": 1,
   "computation_mode": "JUPYTER",
   "package_manager": "pip",
   "base_environment": "default",
   "packages": []
  }
 },
 "nbformat": 4,
 "nbformat_minor": 4
}
